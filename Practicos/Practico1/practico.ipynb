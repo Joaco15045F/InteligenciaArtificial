{
 "cells": [
  {
   "cell_type": "markdown",
   "metadata": {},
   "source": [
    "# Resumen"
   ]
  },
  {
   "cell_type": "markdown",
   "metadata": {},
   "source": [
    "Este notebook contiene un análisis paso a paso del proceso para encontrar la mejor línea de ajuste utilizando una regresión lineal simple. Dado un conjunto de datos de estaturas y pesos, el objetivo es ajustar una línea recta \\( Y = a \\cdot X + b \\) que minimice el error absoluto total entre los valores predichos y los valores reales.\n"
   ]
  },
  {
   "cell_type": "markdown",
   "metadata": {},
   "source": [
    "## Datos"
   ]
  },
  {
   "cell_type": "markdown",
   "metadata": {},
   "source": [
    "El conjunto de datos utilizado consta de dos listas:\n",
    "- `estaturas`: Listado de estaturas en centímetros.\n",
    "- `pesos`: Listado de pesos en kilogramos."
   ]
  },
  {
   "cell_type": "code",
   "execution_count": 1,
   "metadata": {},
   "outputs": [],
   "source": [
    "estaturas = [\n",
    "    155, 157, 159, 160, 162, 164, 166, 168, 170, 172,\n",
    "    174, 176, 178, 180, 182, 184, 186, 188, 190, 192,\n",
    "    194, 196, 198, 150, 152, 154, 156, 158, 160, 162,\n",
    "    164, 166, 168, 170, 172, 174, 176, 178, 180, 182,\n",
    "    184, 186, 188, 190, 192, 194, 196, 198, 150, 152,\n",
    "    154, 156, 158, 160, 162, 164, 166, 168, 170, 172,\n",
    "    174, 176, 178, 180, 182, 184, 186, 188, 190, 192,\n",
    "    194, 196, 198, 150, 152, 154, 156, 158, 160, 162,\n",
    "    164, 166, 168, 170, 172, 174, 176, 178, 180, 182 \n",
    "]\n",
    "\n",
    "pesos = [\n",
    "    55, 57, 59, 60, 62, 64, 66, 68, 70, 72,  \n",
    "    74, 76, 78, 80, 82, 84, 86, 88, 90, 92,  \n",
    "    94, 96, 98, 52, 54, 56, 58, 60, 62, 64,  \n",
    "    66, 68, 70, 72, 74, 76, 78, 80, 82, 84,  \n",
    "    86, 88, 90, 92, 94, 96, 98, 100, 54, 56, \n",
    "    58, 60, 62, 64, 66, 68, 70, 72, 74, 76,  \n",
    "    78, 80, 82, 84, 86, 88, 90, 92, 94, 96,  \n",
    "    98, 100, 102, 56, 58, 60, 62, 64, 66, 68,\n",
    "    70, 72, 74, 76, 78, 80, 82, 84, 86, 88   \n",
    "]"
   ]
  },
  {
   "cell_type": "markdown",
   "metadata": {},
   "source": [
    "El objetivo es encontrar los valores óptimos para los parámetros a y b en la ecuación de la línea recta que minimicen el error absoluto total.\n",
    "\n",
    "Proceso:\n",
    "1. Inicialización:\n",
    "\n",
    "Se define un valor inicial alto para MejorError, que se usará para encontrar el mínimo error.\n",
    "\n",
    "2. Búsqueda Exhaustiva:\n",
    "\n",
    "Se itera sobre un rango de posibles valores para a y b (en este caso, desde -1000 hasta 1000).\n",
    "Para cada combinación de a y b, se calcula el error absoluto total entre los valores predichos y los valores reales.\n",
    "\n",
    "3. Cálculo del Error:\n",
    "\n",
    "El error absoluto total se acumula sumando las diferencias absolutas entre los pesos reales y los pesos predichos para cada estatura.\n",
    "\n",
    "4. Selección de la Mejor Combinación:\n",
    "\n",
    "Si el error absoluto total para una combinación de a y b es menor que MejorError, se actualizan los valores de MejorError, mejorA, y mejorB.\n",
    "\n",
    "5. Resultados:\n",
    "\n",
    "Se imprimen los valores óptimos de a, b, y el menor error encontrado."
   ]
  },
  {
   "cell_type": "code",
   "execution_count": 2,
   "metadata": {},
   "outputs": [
    {
     "name": "stdout",
     "output_type": "stream",
     "text": [
      "El menor error es: 164\n",
      "El valor mas optimo para a es: 1\n",
      "El valor mas optimo para b es: -98\n"
     ]
    }
   ],
   "source": [
    "MejorError = 10000\n",
    "\n",
    "for a in range(-1000, 1001):\n",
    "    for b in range(-1000, 1001):\n",
    "        errorTotal = 0\n",
    "        for i in range(len(estaturas)):\n",
    "            Y = a * estaturas[i] + b\n",
    "            errorAbs = abs(pesos[i] - Y)\n",
    "            errorTotal += errorAbs\n",
    "        if errorTotal < MejorError:\n",
    "            MejorError = errorTotal\n",
    "            mejorA = a\n",
    "            mejorB = b\n",
    "\n",
    "print(f\"El menor error es: {MejorError}\")\n",
    "print(f\"El valor mas optimo para a es: {mejorA}\")\n",
    "print(f\"El valor mas optimo para b es: {mejorB}\")\n"
   ]
  },
  {
   "cell_type": "markdown",
   "metadata": {},
   "source": [
    "# Conclusiones\n",
    "-El código encuentra la mejor combinación de a y b que minimiza el error absoluto total en la predicción de pesos a partir de las estaturas.\n",
    "\n",
    "-El enfoque utilizado es una búsqueda exhaustiva que puede ser lento para grandes rangos de valores."
   ]
  }
 ],
 "metadata": {
  "kernelspec": {
   "display_name": "base",
   "language": "python",
   "name": "python3"
  },
  "language_info": {
   "codemirror_mode": {
    "name": "ipython",
    "version": 3
   },
   "file_extension": ".py",
   "mimetype": "text/x-python",
   "name": "python",
   "nbconvert_exporter": "python",
   "pygments_lexer": "ipython3",
   "version": "3.12.4"
  }
 },
 "nbformat": 4,
 "nbformat_minor": 2
}
