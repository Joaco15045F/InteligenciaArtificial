{
  "cells": [
    {
      "cell_type": "markdown",
      "metadata": {
        "id": "C-hSMlXUdKMD"
      },
      "source": [
        "## Laboratorio 4\n",
        "### Nombre: Aramayo Valdez Joaquin.\n",
        "### CU: 35-5344.\n",
        "### link GitHub: https://github.com/Joaco15045F/InteligenciaArtificial/tree/main/Laboratorios/Laboratorio4\n",
        "### link Dataset: https://www.kaggle.com/datasets/deepaksaipendyala/credit-score-classification-processed"
      ]
    },
    {
      "cell_type": "code",
      "execution_count": 1,
      "metadata": {
        "colab": {
          "base_uri": "https://localhost:8080/"
        },
        "id": "clyp4NcQycWP",
        "outputId": "ad9a1a96-ab9a-4711-af28-345e12be775f"
      },
      "outputs": [],
      "source": [
        "#from google.colab import drive\n",
        "#drive.mount('/content/drive')"
      ]
    },
    {
      "cell_type": "code",
      "execution_count": 2,
      "metadata": {
        "id": "20Q29kX8SxgJ"
      },
      "outputs": [],
      "source": [
        "# utilizado para la manipulación de directorios y rutas\n",
        "import os\n",
        "\n",
        "# Cálculo científico y vectorial para python\n",
        "import numpy as np\n",
        "\n",
        "# Libreria para graficos\n",
        "from matplotlib import pyplot\n",
        "\n",
        "# Modulo de optimizacion en scipy\n",
        "from scipy import optimize\n",
        "\n",
        "# modulo para cargar archivos en formato MATLAB\n",
        "# from scipy.io import loadmat\n",
        "\n",
        "# le dice a matplotlib que incruste gráficos en el cuaderno\n",
        "%matplotlib inline\n",
        "\n",
        "# importamos pandas\n",
        "import pandas as pd\n"
      ]
    },
    {
      "cell_type": "markdown",
      "metadata": {
        "id": "reiJgimdl2Um"
      },
      "source": [
        "### Hacemos la carga del dataset a utilizar."
      ]
    },
    {
      "cell_type": "code",
      "execution_count": 3,
      "metadata": {
        "colab": {
          "base_uri": "https://localhost:8080/",
          "height": 461
        },
        "id": "hhRjL2ptSxgK",
        "outputId": "00b017e9-9f7c-4901-a9b8-4d142a353027"
      },
      "outputs": [
        {
          "data": {
            "text/html": [
              "<div>\n",
              "<style scoped>\n",
              "    .dataframe tbody tr th:only-of-type {\n",
              "        vertical-align: middle;\n",
              "    }\n",
              "\n",
              "    .dataframe tbody tr th {\n",
              "        vertical-align: top;\n",
              "    }\n",
              "\n",
              "    .dataframe thead th {\n",
              "        text-align: right;\n",
              "    }\n",
              "</style>\n",
              "<table border=\"1\" class=\"dataframe\">\n",
              "  <thead>\n",
              "    <tr style=\"text-align: right;\">\n",
              "      <th></th>\n",
              "      <th>Unnamed: 0</th>\n",
              "      <th>Month</th>\n",
              "      <th>Age</th>\n",
              "      <th>Occupation</th>\n",
              "      <th>Annual_Income</th>\n",
              "      <th>Monthly_Inhand_Salary</th>\n",
              "      <th>Num_Bank_Accounts</th>\n",
              "      <th>Num_Credit_Card</th>\n",
              "      <th>Interest_Rate</th>\n",
              "      <th>Num_of_Loan</th>\n",
              "      <th>...</th>\n",
              "      <th>Credit_Mix</th>\n",
              "      <th>Outstanding_Debt</th>\n",
              "      <th>Credit_Utilization_Ratio</th>\n",
              "      <th>Credit_History_Age</th>\n",
              "      <th>Payment_of_Min_Amount</th>\n",
              "      <th>Total_EMI_per_month</th>\n",
              "      <th>Amount_invested_monthly</th>\n",
              "      <th>Payment_Behaviour</th>\n",
              "      <th>Monthly_Balance</th>\n",
              "      <th>Credit_Score</th>\n",
              "    </tr>\n",
              "  </thead>\n",
              "  <tbody>\n",
              "    <tr>\n",
              "      <th>0</th>\n",
              "      <td>1</td>\n",
              "      <td>2</td>\n",
              "      <td>23.000000</td>\n",
              "      <td>13</td>\n",
              "      <td>19114.12</td>\n",
              "      <td>4194.170850</td>\n",
              "      <td>3.0</td>\n",
              "      <td>4.0</td>\n",
              "      <td>3.000000</td>\n",
              "      <td>4.0</td>\n",
              "      <td>...</td>\n",
              "      <td>1</td>\n",
              "      <td>809.98</td>\n",
              "      <td>31.944960</td>\n",
              "      <td>0</td>\n",
              "      <td>1</td>\n",
              "      <td>49.574949</td>\n",
              "      <td>118.280222</td>\n",
              "      <td>3</td>\n",
              "      <td>284.629162</td>\n",
              "      <td>2</td>\n",
              "    </tr>\n",
              "    <tr>\n",
              "      <th>1</th>\n",
              "      <td>2</td>\n",
              "      <td>6</td>\n",
              "      <td>34.429817</td>\n",
              "      <td>13</td>\n",
              "      <td>19114.12</td>\n",
              "      <td>4194.170850</td>\n",
              "      <td>3.0</td>\n",
              "      <td>4.0</td>\n",
              "      <td>3.000000</td>\n",
              "      <td>4.0</td>\n",
              "      <td>...</td>\n",
              "      <td>1</td>\n",
              "      <td>809.98</td>\n",
              "      <td>28.609352</td>\n",
              "      <td>267</td>\n",
              "      <td>1</td>\n",
              "      <td>49.574949</td>\n",
              "      <td>81.699521</td>\n",
              "      <td>4</td>\n",
              "      <td>331.209863</td>\n",
              "      <td>2</td>\n",
              "    </tr>\n",
              "    <tr>\n",
              "      <th>2</th>\n",
              "      <td>3</td>\n",
              "      <td>0</td>\n",
              "      <td>23.000000</td>\n",
              "      <td>13</td>\n",
              "      <td>19114.12</td>\n",
              "      <td>4194.170850</td>\n",
              "      <td>3.0</td>\n",
              "      <td>4.0</td>\n",
              "      <td>3.000000</td>\n",
              "      <td>4.0</td>\n",
              "      <td>...</td>\n",
              "      <td>1</td>\n",
              "      <td>809.98</td>\n",
              "      <td>31.377862</td>\n",
              "      <td>268</td>\n",
              "      <td>1</td>\n",
              "      <td>49.574949</td>\n",
              "      <td>199.458074</td>\n",
              "      <td>5</td>\n",
              "      <td>223.451310</td>\n",
              "      <td>2</td>\n",
              "    </tr>\n",
              "    <tr>\n",
              "      <th>3</th>\n",
              "      <td>4</td>\n",
              "      <td>7</td>\n",
              "      <td>23.000000</td>\n",
              "      <td>13</td>\n",
              "      <td>19114.12</td>\n",
              "      <td>1824.843333</td>\n",
              "      <td>3.0</td>\n",
              "      <td>4.0</td>\n",
              "      <td>3.000000</td>\n",
              "      <td>4.0</td>\n",
              "      <td>...</td>\n",
              "      <td>1</td>\n",
              "      <td>809.98</td>\n",
              "      <td>24.797347</td>\n",
              "      <td>269</td>\n",
              "      <td>1</td>\n",
              "      <td>49.574949</td>\n",
              "      <td>41.420153</td>\n",
              "      <td>1</td>\n",
              "      <td>341.489231</td>\n",
              "      <td>2</td>\n",
              "    </tr>\n",
              "    <tr>\n",
              "      <th>4</th>\n",
              "      <td>5</td>\n",
              "      <td>5</td>\n",
              "      <td>23.000000</td>\n",
              "      <td>13</td>\n",
              "      <td>19114.12</td>\n",
              "      <td>4194.170850</td>\n",
              "      <td>3.0</td>\n",
              "      <td>4.0</td>\n",
              "      <td>3.000000</td>\n",
              "      <td>4.0</td>\n",
              "      <td>...</td>\n",
              "      <td>1</td>\n",
              "      <td>809.98</td>\n",
              "      <td>27.262259</td>\n",
              "      <td>270</td>\n",
              "      <td>1</td>\n",
              "      <td>49.574949</td>\n",
              "      <td>62.430172</td>\n",
              "      <td>6</td>\n",
              "      <td>340.479212</td>\n",
              "      <td>2</td>\n",
              "    </tr>\n",
              "    <tr>\n",
              "      <th>...</th>\n",
              "      <td>...</td>\n",
              "      <td>...</td>\n",
              "      <td>...</td>\n",
              "      <td>...</td>\n",
              "      <td>...</td>\n",
              "      <td>...</td>\n",
              "      <td>...</td>\n",
              "      <td>...</td>\n",
              "      <td>...</td>\n",
              "      <td>...</td>\n",
              "      <td>...</td>\n",
              "      <td>...</td>\n",
              "      <td>...</td>\n",
              "      <td>...</td>\n",
              "      <td>...</td>\n",
              "      <td>...</td>\n",
              "      <td>...</td>\n",
              "      <td>...</td>\n",
              "      <td>...</td>\n",
              "      <td>...</td>\n",
              "      <td>...</td>\n",
              "    </tr>\n",
              "    <tr>\n",
              "      <th>79800</th>\n",
              "      <td>99991</td>\n",
              "      <td>1</td>\n",
              "      <td>29.000000</td>\n",
              "      <td>1</td>\n",
              "      <td>20002.88</td>\n",
              "      <td>1929.906667</td>\n",
              "      <td>10.0</td>\n",
              "      <td>8.0</td>\n",
              "      <td>29.000000</td>\n",
              "      <td>5.0</td>\n",
              "      <td>...</td>\n",
              "      <td>0</td>\n",
              "      <td>3571.70</td>\n",
              "      <td>37.140784</td>\n",
              "      <td>75</td>\n",
              "      <td>2</td>\n",
              "      <td>60.964772</td>\n",
              "      <td>34.662906</td>\n",
              "      <td>0</td>\n",
              "      <td>337.362988</td>\n",
              "      <td>1</td>\n",
              "    </tr>\n",
              "    <tr>\n",
              "      <th>79801</th>\n",
              "      <td>99993</td>\n",
              "      <td>2</td>\n",
              "      <td>25.000000</td>\n",
              "      <td>9</td>\n",
              "      <td>39628.99</td>\n",
              "      <td>3359.415833</td>\n",
              "      <td>4.0</td>\n",
              "      <td>6.0</td>\n",
              "      <td>7.000000</td>\n",
              "      <td>2.0</td>\n",
              "      <td>...</td>\n",
              "      <td>1</td>\n",
              "      <td>502.38</td>\n",
              "      <td>29.135447</td>\n",
              "      <td>376</td>\n",
              "      <td>1</td>\n",
              "      <td>58638.000000</td>\n",
              "      <td>180.733095</td>\n",
              "      <td>4</td>\n",
              "      <td>400.104466</td>\n",
              "      <td>1</td>\n",
              "    </tr>\n",
              "    <tr>\n",
              "      <th>79802</th>\n",
              "      <td>99997</td>\n",
              "      <td>5</td>\n",
              "      <td>25.000000</td>\n",
              "      <td>9</td>\n",
              "      <td>39628.99</td>\n",
              "      <td>3359.415833</td>\n",
              "      <td>4.0</td>\n",
              "      <td>6.0</td>\n",
              "      <td>14.546679</td>\n",
              "      <td>2.0</td>\n",
              "      <td>...</td>\n",
              "      <td>1</td>\n",
              "      <td>502.38</td>\n",
              "      <td>41.255522</td>\n",
              "      <td>380</td>\n",
              "      <td>1</td>\n",
              "      <td>35.104023</td>\n",
              "      <td>24.028477</td>\n",
              "      <td>0</td>\n",
              "      <td>516.809083</td>\n",
              "      <td>0</td>\n",
              "    </tr>\n",
              "    <tr>\n",
              "      <th>79803</th>\n",
              "      <td>99998</td>\n",
              "      <td>4</td>\n",
              "      <td>25.000000</td>\n",
              "      <td>9</td>\n",
              "      <td>39628.99</td>\n",
              "      <td>3359.415833</td>\n",
              "      <td>4.0</td>\n",
              "      <td>6.0</td>\n",
              "      <td>7.000000</td>\n",
              "      <td>2.0</td>\n",
              "      <td>...</td>\n",
              "      <td>1</td>\n",
              "      <td>502.38</td>\n",
              "      <td>33.638208</td>\n",
              "      <td>381</td>\n",
              "      <td>1</td>\n",
              "      <td>35.104023</td>\n",
              "      <td>251.672582</td>\n",
              "      <td>3</td>\n",
              "      <td>319.164979</td>\n",
              "      <td>1</td>\n",
              "    </tr>\n",
              "    <tr>\n",
              "      <th>79804</th>\n",
              "      <td>99999</td>\n",
              "      <td>1</td>\n",
              "      <td>25.000000</td>\n",
              "      <td>9</td>\n",
              "      <td>39628.99</td>\n",
              "      <td>3359.415833</td>\n",
              "      <td>4.0</td>\n",
              "      <td>6.0</td>\n",
              "      <td>7.000000</td>\n",
              "      <td>2.0</td>\n",
              "      <td>...</td>\n",
              "      <td>1</td>\n",
              "      <td>502.38</td>\n",
              "      <td>34.192463</td>\n",
              "      <td>382</td>\n",
              "      <td>1</td>\n",
              "      <td>35.104023</td>\n",
              "      <td>167.163865</td>\n",
              "      <td>6</td>\n",
              "      <td>393.673696</td>\n",
              "      <td>0</td>\n",
              "    </tr>\n",
              "  </tbody>\n",
              "</table>\n",
              "<p>79805 rows × 25 columns</p>\n",
              "</div>"
            ],
            "text/plain": [
              "       Unnamed: 0  Month        Age  Occupation  Annual_Income  \\\n",
              "0               1      2  23.000000          13       19114.12   \n",
              "1               2      6  34.429817          13       19114.12   \n",
              "2               3      0  23.000000          13       19114.12   \n",
              "3               4      7  23.000000          13       19114.12   \n",
              "4               5      5  23.000000          13       19114.12   \n",
              "...           ...    ...        ...         ...            ...   \n",
              "79800       99991      1  29.000000           1       20002.88   \n",
              "79801       99993      2  25.000000           9       39628.99   \n",
              "79802       99997      5  25.000000           9       39628.99   \n",
              "79803       99998      4  25.000000           9       39628.99   \n",
              "79804       99999      1  25.000000           9       39628.99   \n",
              "\n",
              "       Monthly_Inhand_Salary  Num_Bank_Accounts  Num_Credit_Card  \\\n",
              "0                4194.170850                3.0              4.0   \n",
              "1                4194.170850                3.0              4.0   \n",
              "2                4194.170850                3.0              4.0   \n",
              "3                1824.843333                3.0              4.0   \n",
              "4                4194.170850                3.0              4.0   \n",
              "...                      ...                ...              ...   \n",
              "79800            1929.906667               10.0              8.0   \n",
              "79801            3359.415833                4.0              6.0   \n",
              "79802            3359.415833                4.0              6.0   \n",
              "79803            3359.415833                4.0              6.0   \n",
              "79804            3359.415833                4.0              6.0   \n",
              "\n",
              "       Interest_Rate  Num_of_Loan  ...  Credit_Mix  Outstanding_Debt  \\\n",
              "0           3.000000          4.0  ...           1            809.98   \n",
              "1           3.000000          4.0  ...           1            809.98   \n",
              "2           3.000000          4.0  ...           1            809.98   \n",
              "3           3.000000          4.0  ...           1            809.98   \n",
              "4           3.000000          4.0  ...           1            809.98   \n",
              "...              ...          ...  ...         ...               ...   \n",
              "79800      29.000000          5.0  ...           0           3571.70   \n",
              "79801       7.000000          2.0  ...           1            502.38   \n",
              "79802      14.546679          2.0  ...           1            502.38   \n",
              "79803       7.000000          2.0  ...           1            502.38   \n",
              "79804       7.000000          2.0  ...           1            502.38   \n",
              "\n",
              "       Credit_Utilization_Ratio  Credit_History_Age  Payment_of_Min_Amount  \\\n",
              "0                     31.944960                   0                      1   \n",
              "1                     28.609352                 267                      1   \n",
              "2                     31.377862                 268                      1   \n",
              "3                     24.797347                 269                      1   \n",
              "4                     27.262259                 270                      1   \n",
              "...                         ...                 ...                    ...   \n",
              "79800                 37.140784                  75                      2   \n",
              "79801                 29.135447                 376                      1   \n",
              "79802                 41.255522                 380                      1   \n",
              "79803                 33.638208                 381                      1   \n",
              "79804                 34.192463                 382                      1   \n",
              "\n",
              "       Total_EMI_per_month  Amount_invested_monthly  Payment_Behaviour  \\\n",
              "0                49.574949               118.280222                  3   \n",
              "1                49.574949                81.699521                  4   \n",
              "2                49.574949               199.458074                  5   \n",
              "3                49.574949                41.420153                  1   \n",
              "4                49.574949                62.430172                  6   \n",
              "...                    ...                      ...                ...   \n",
              "79800            60.964772                34.662906                  0   \n",
              "79801         58638.000000               180.733095                  4   \n",
              "79802            35.104023                24.028477                  0   \n",
              "79803            35.104023               251.672582                  3   \n",
              "79804            35.104023               167.163865                  6   \n",
              "\n",
              "       Monthly_Balance  Credit_Score  \n",
              "0           284.629162             2  \n",
              "1           331.209863             2  \n",
              "2           223.451310             2  \n",
              "3           341.489231             2  \n",
              "4           340.479212             2  \n",
              "...                ...           ...  \n",
              "79800       337.362988             1  \n",
              "79801       400.104466             1  \n",
              "79802       516.809083             0  \n",
              "79803       319.164979             1  \n",
              "79804       393.673696             0  \n",
              "\n",
              "[79805 rows x 25 columns]"
            ]
          },
          "execution_count": 3,
          "metadata": {},
          "output_type": "execute_result"
        }
      ],
      "source": [
        "data = pd.read_csv('credit_score.csv')\n",
        "data"
      ]
    },
    {
      "cell_type": "code",
      "execution_count": 4,
      "metadata": {
        "colab": {
          "base_uri": "https://localhost:8080/"
        },
        "id": "epCUWht6mXgb",
        "outputId": "55348b2d-45ab-4f58-c232-0d168ec89ef5"
      },
      "outputs": [
        {
          "name": "stdout",
          "output_type": "stream",
          "text": [
            "<class 'pandas.core.frame.DataFrame'>\n",
            "RangeIndex: 79805 entries, 0 to 79804\n",
            "Data columns (total 25 columns):\n",
            " #   Column                    Non-Null Count  Dtype  \n",
            "---  ------                    --------------  -----  \n",
            " 0   Unnamed: 0                79805 non-null  int64  \n",
            " 1   Month                     79805 non-null  int64  \n",
            " 2   Age                       79805 non-null  float64\n",
            " 3   Occupation                79805 non-null  int64  \n",
            " 4   Annual_Income             79805 non-null  float64\n",
            " 5   Monthly_Inhand_Salary     79805 non-null  float64\n",
            " 6   Num_Bank_Accounts         79805 non-null  float64\n",
            " 7   Num_Credit_Card           79805 non-null  float64\n",
            " 8   Interest_Rate             79805 non-null  float64\n",
            " 9   Num_of_Loan               79805 non-null  float64\n",
            " 10  Type_of_Loan              79805 non-null  int64  \n",
            " 11  Delay_from_due_date       79805 non-null  int64  \n",
            " 12  Num_of_Delayed_Payment    79805 non-null  float64\n",
            " 13  Changed_Credit_Limit      79805 non-null  int64  \n",
            " 14  Num_Credit_Inquiries      79805 non-null  float64\n",
            " 15  Credit_Mix                79805 non-null  int64  \n",
            " 16  Outstanding_Debt          79805 non-null  float64\n",
            " 17  Credit_Utilization_Ratio  79805 non-null  float64\n",
            " 18  Credit_History_Age        79805 non-null  int64  \n",
            " 19  Payment_of_Min_Amount     79805 non-null  int64  \n",
            " 20  Total_EMI_per_month       79805 non-null  float64\n",
            " 21  Amount_invested_monthly   79805 non-null  float64\n",
            " 22  Payment_Behaviour         79805 non-null  int64  \n",
            " 23  Monthly_Balance           79805 non-null  float64\n",
            " 24  Credit_Score              79805 non-null  int64  \n",
            "dtypes: float64(14), int64(11)\n",
            "memory usage: 15.2 MB\n"
          ]
        }
      ],
      "source": [
        "data.info()"
      ]
    },
    {
      "cell_type": "code",
      "execution_count": 5,
      "metadata": {
        "id": "YJIskAIB0BH9"
      },
      "outputs": [],
      "source": [
        "# Procedemos a borrar de nuestro dataset la primera columna ya que es un \"id\", el cual no nos servira\n",
        "data = data.drop(['Unnamed: 0'], axis=1)"
      ]
    },
    {
      "cell_type": "markdown",
      "metadata": {
        "id": "N7EJhyRhm2kg"
      },
      "source": [
        "### Al ver la informacion de nuestro dataset, podemos ver que ninguna de nuestras X y tampoco nuestra Y (\"Credit_Score\") tienen valores vacios, lo cual nos ayuda mucho"
      ]
    },
    {
      "cell_type": "code",
      "execution_count": 6,
      "metadata": {
        "colab": {
          "base_uri": "https://localhost:8080/"
        },
        "id": "3JFiXmegmpzI",
        "outputId": "5443086d-7499-4fc8-9cdc-d1e9de039e5d"
      },
      "outputs": [
        {
          "name": "stdout",
          "output_type": "stream",
          "text": [
            "Credit_Score\n",
            "1    42470\n",
            "0    23129\n",
            "2    14206\n",
            "Name: count, dtype: int64\n"
          ]
        }
      ],
      "source": [
        "# Aqui procedemos a ver cuantos tipos de clases existen en nuestra Y que usaremos\n",
        "contar_clases = data['Credit_Score'].value_counts()\n",
        "print(contar_clases)\n"
      ]
    },
    {
      "cell_type": "code",
      "execution_count": 7,
      "metadata": {
        "colab": {
          "base_uri": "https://localhost:8080/",
          "height": 443
        },
        "id": "j2mXwFAEetCf",
        "outputId": "654df6cb-622b-4026-e9b2-2a1f2bd5c08f"
      },
      "outputs": [
        {
          "data": {
            "text/html": [
              "<div>\n",
              "<style scoped>\n",
              "    .dataframe tbody tr th:only-of-type {\n",
              "        vertical-align: middle;\n",
              "    }\n",
              "\n",
              "    .dataframe tbody tr th {\n",
              "        vertical-align: top;\n",
              "    }\n",
              "\n",
              "    .dataframe thead th {\n",
              "        text-align: right;\n",
              "    }\n",
              "</style>\n",
              "<table border=\"1\" class=\"dataframe\">\n",
              "  <thead>\n",
              "    <tr style=\"text-align: right;\">\n",
              "      <th></th>\n",
              "      <th>Month</th>\n",
              "      <th>Age</th>\n",
              "      <th>Occupation</th>\n",
              "      <th>Annual_Income</th>\n",
              "      <th>Monthly_Inhand_Salary</th>\n",
              "      <th>Num_Bank_Accounts</th>\n",
              "      <th>Num_Credit_Card</th>\n",
              "      <th>Interest_Rate</th>\n",
              "      <th>Num_of_Loan</th>\n",
              "      <th>Type_of_Loan</th>\n",
              "      <th>...</th>\n",
              "      <th>Credit_Mix</th>\n",
              "      <th>Outstanding_Debt</th>\n",
              "      <th>Credit_Utilization_Ratio</th>\n",
              "      <th>Credit_History_Age</th>\n",
              "      <th>Payment_of_Min_Amount</th>\n",
              "      <th>Total_EMI_per_month</th>\n",
              "      <th>Amount_invested_monthly</th>\n",
              "      <th>Payment_Behaviour</th>\n",
              "      <th>Monthly_Balance</th>\n",
              "      <th>Credit_Score</th>\n",
              "    </tr>\n",
              "  </thead>\n",
              "  <tbody>\n",
              "    <tr>\n",
              "      <th>0</th>\n",
              "      <td>2</td>\n",
              "      <td>23.000000</td>\n",
              "      <td>13</td>\n",
              "      <td>19114.12</td>\n",
              "      <td>4194.170850</td>\n",
              "      <td>3.0</td>\n",
              "      <td>4.0</td>\n",
              "      <td>3.000000</td>\n",
              "      <td>4.0</td>\n",
              "      <td>128</td>\n",
              "      <td>...</td>\n",
              "      <td>1</td>\n",
              "      <td>809.98</td>\n",
              "      <td>31.944960</td>\n",
              "      <td>0</td>\n",
              "      <td>1</td>\n",
              "      <td>49.574949</td>\n",
              "      <td>118.280222</td>\n",
              "      <td>3</td>\n",
              "      <td>284.629162</td>\n",
              "      <td>2</td>\n",
              "    </tr>\n",
              "    <tr>\n",
              "      <th>1</th>\n",
              "      <td>6</td>\n",
              "      <td>34.429817</td>\n",
              "      <td>13</td>\n",
              "      <td>19114.12</td>\n",
              "      <td>4194.170850</td>\n",
              "      <td>3.0</td>\n",
              "      <td>4.0</td>\n",
              "      <td>3.000000</td>\n",
              "      <td>4.0</td>\n",
              "      <td>128</td>\n",
              "      <td>...</td>\n",
              "      <td>1</td>\n",
              "      <td>809.98</td>\n",
              "      <td>28.609352</td>\n",
              "      <td>267</td>\n",
              "      <td>1</td>\n",
              "      <td>49.574949</td>\n",
              "      <td>81.699521</td>\n",
              "      <td>4</td>\n",
              "      <td>331.209863</td>\n",
              "      <td>2</td>\n",
              "    </tr>\n",
              "    <tr>\n",
              "      <th>2</th>\n",
              "      <td>0</td>\n",
              "      <td>23.000000</td>\n",
              "      <td>13</td>\n",
              "      <td>19114.12</td>\n",
              "      <td>4194.170850</td>\n",
              "      <td>3.0</td>\n",
              "      <td>4.0</td>\n",
              "      <td>3.000000</td>\n",
              "      <td>4.0</td>\n",
              "      <td>128</td>\n",
              "      <td>...</td>\n",
              "      <td>1</td>\n",
              "      <td>809.98</td>\n",
              "      <td>31.377862</td>\n",
              "      <td>268</td>\n",
              "      <td>1</td>\n",
              "      <td>49.574949</td>\n",
              "      <td>199.458074</td>\n",
              "      <td>5</td>\n",
              "      <td>223.451310</td>\n",
              "      <td>2</td>\n",
              "    </tr>\n",
              "    <tr>\n",
              "      <th>3</th>\n",
              "      <td>7</td>\n",
              "      <td>23.000000</td>\n",
              "      <td>13</td>\n",
              "      <td>19114.12</td>\n",
              "      <td>1824.843333</td>\n",
              "      <td>3.0</td>\n",
              "      <td>4.0</td>\n",
              "      <td>3.000000</td>\n",
              "      <td>4.0</td>\n",
              "      <td>128</td>\n",
              "      <td>...</td>\n",
              "      <td>1</td>\n",
              "      <td>809.98</td>\n",
              "      <td>24.797347</td>\n",
              "      <td>269</td>\n",
              "      <td>1</td>\n",
              "      <td>49.574949</td>\n",
              "      <td>41.420153</td>\n",
              "      <td>1</td>\n",
              "      <td>341.489231</td>\n",
              "      <td>2</td>\n",
              "    </tr>\n",
              "    <tr>\n",
              "      <th>4</th>\n",
              "      <td>5</td>\n",
              "      <td>23.000000</td>\n",
              "      <td>13</td>\n",
              "      <td>19114.12</td>\n",
              "      <td>4194.170850</td>\n",
              "      <td>3.0</td>\n",
              "      <td>4.0</td>\n",
              "      <td>3.000000</td>\n",
              "      <td>4.0</td>\n",
              "      <td>128</td>\n",
              "      <td>...</td>\n",
              "      <td>1</td>\n",
              "      <td>809.98</td>\n",
              "      <td>27.262259</td>\n",
              "      <td>270</td>\n",
              "      <td>1</td>\n",
              "      <td>49.574949</td>\n",
              "      <td>62.430172</td>\n",
              "      <td>6</td>\n",
              "      <td>340.479212</td>\n",
              "      <td>2</td>\n",
              "    </tr>\n",
              "    <tr>\n",
              "      <th>...</th>\n",
              "      <td>...</td>\n",
              "      <td>...</td>\n",
              "      <td>...</td>\n",
              "      <td>...</td>\n",
              "      <td>...</td>\n",
              "      <td>...</td>\n",
              "      <td>...</td>\n",
              "      <td>...</td>\n",
              "      <td>...</td>\n",
              "      <td>...</td>\n",
              "      <td>...</td>\n",
              "      <td>...</td>\n",
              "      <td>...</td>\n",
              "      <td>...</td>\n",
              "      <td>...</td>\n",
              "      <td>...</td>\n",
              "      <td>...</td>\n",
              "      <td>...</td>\n",
              "      <td>...</td>\n",
              "      <td>...</td>\n",
              "      <td>...</td>\n",
              "    </tr>\n",
              "    <tr>\n",
              "      <th>79800</th>\n",
              "      <td>1</td>\n",
              "      <td>29.000000</td>\n",
              "      <td>1</td>\n",
              "      <td>20002.88</td>\n",
              "      <td>1929.906667</td>\n",
              "      <td>10.0</td>\n",
              "      <td>8.0</td>\n",
              "      <td>29.000000</td>\n",
              "      <td>5.0</td>\n",
              "      <td>4913</td>\n",
              "      <td>...</td>\n",
              "      <td>0</td>\n",
              "      <td>3571.70</td>\n",
              "      <td>37.140784</td>\n",
              "      <td>75</td>\n",
              "      <td>2</td>\n",
              "      <td>60.964772</td>\n",
              "      <td>34.662906</td>\n",
              "      <td>0</td>\n",
              "      <td>337.362988</td>\n",
              "      <td>1</td>\n",
              "    </tr>\n",
              "    <tr>\n",
              "      <th>79801</th>\n",
              "      <td>2</td>\n",
              "      <td>25.000000</td>\n",
              "      <td>9</td>\n",
              "      <td>39628.99</td>\n",
              "      <td>3359.415833</td>\n",
              "      <td>4.0</td>\n",
              "      <td>6.0</td>\n",
              "      <td>7.000000</td>\n",
              "      <td>2.0</td>\n",
              "      <td>683</td>\n",
              "      <td>...</td>\n",
              "      <td>1</td>\n",
              "      <td>502.38</td>\n",
              "      <td>29.135447</td>\n",
              "      <td>376</td>\n",
              "      <td>1</td>\n",
              "      <td>58638.000000</td>\n",
              "      <td>180.733095</td>\n",
              "      <td>4</td>\n",
              "      <td>400.104466</td>\n",
              "      <td>1</td>\n",
              "    </tr>\n",
              "    <tr>\n",
              "      <th>79802</th>\n",
              "      <td>5</td>\n",
              "      <td>25.000000</td>\n",
              "      <td>9</td>\n",
              "      <td>39628.99</td>\n",
              "      <td>3359.415833</td>\n",
              "      <td>4.0</td>\n",
              "      <td>6.0</td>\n",
              "      <td>14.546679</td>\n",
              "      <td>2.0</td>\n",
              "      <td>683</td>\n",
              "      <td>...</td>\n",
              "      <td>1</td>\n",
              "      <td>502.38</td>\n",
              "      <td>41.255522</td>\n",
              "      <td>380</td>\n",
              "      <td>1</td>\n",
              "      <td>35.104023</td>\n",
              "      <td>24.028477</td>\n",
              "      <td>0</td>\n",
              "      <td>516.809083</td>\n",
              "      <td>0</td>\n",
              "    </tr>\n",
              "    <tr>\n",
              "      <th>79803</th>\n",
              "      <td>4</td>\n",
              "      <td>25.000000</td>\n",
              "      <td>9</td>\n",
              "      <td>39628.99</td>\n",
              "      <td>3359.415833</td>\n",
              "      <td>4.0</td>\n",
              "      <td>6.0</td>\n",
              "      <td>7.000000</td>\n",
              "      <td>2.0</td>\n",
              "      <td>683</td>\n",
              "      <td>...</td>\n",
              "      <td>1</td>\n",
              "      <td>502.38</td>\n",
              "      <td>33.638208</td>\n",
              "      <td>381</td>\n",
              "      <td>1</td>\n",
              "      <td>35.104023</td>\n",
              "      <td>251.672582</td>\n",
              "      <td>3</td>\n",
              "      <td>319.164979</td>\n",
              "      <td>1</td>\n",
              "    </tr>\n",
              "    <tr>\n",
              "      <th>79804</th>\n",
              "      <td>1</td>\n",
              "      <td>25.000000</td>\n",
              "      <td>9</td>\n",
              "      <td>39628.99</td>\n",
              "      <td>3359.415833</td>\n",
              "      <td>4.0</td>\n",
              "      <td>6.0</td>\n",
              "      <td>7.000000</td>\n",
              "      <td>2.0</td>\n",
              "      <td>683</td>\n",
              "      <td>...</td>\n",
              "      <td>1</td>\n",
              "      <td>502.38</td>\n",
              "      <td>34.192463</td>\n",
              "      <td>382</td>\n",
              "      <td>1</td>\n",
              "      <td>35.104023</td>\n",
              "      <td>167.163865</td>\n",
              "      <td>6</td>\n",
              "      <td>393.673696</td>\n",
              "      <td>0</td>\n",
              "    </tr>\n",
              "  </tbody>\n",
              "</table>\n",
              "<p>79805 rows × 24 columns</p>\n",
              "</div>"
            ],
            "text/plain": [
              "       Month        Age  Occupation  Annual_Income  Monthly_Inhand_Salary  \\\n",
              "0          2  23.000000          13       19114.12            4194.170850   \n",
              "1          6  34.429817          13       19114.12            4194.170850   \n",
              "2          0  23.000000          13       19114.12            4194.170850   \n",
              "3          7  23.000000          13       19114.12            1824.843333   \n",
              "4          5  23.000000          13       19114.12            4194.170850   \n",
              "...      ...        ...         ...            ...                    ...   \n",
              "79800      1  29.000000           1       20002.88            1929.906667   \n",
              "79801      2  25.000000           9       39628.99            3359.415833   \n",
              "79802      5  25.000000           9       39628.99            3359.415833   \n",
              "79803      4  25.000000           9       39628.99            3359.415833   \n",
              "79804      1  25.000000           9       39628.99            3359.415833   \n",
              "\n",
              "       Num_Bank_Accounts  Num_Credit_Card  Interest_Rate  Num_of_Loan  \\\n",
              "0                    3.0              4.0       3.000000          4.0   \n",
              "1                    3.0              4.0       3.000000          4.0   \n",
              "2                    3.0              4.0       3.000000          4.0   \n",
              "3                    3.0              4.0       3.000000          4.0   \n",
              "4                    3.0              4.0       3.000000          4.0   \n",
              "...                  ...              ...            ...          ...   \n",
              "79800               10.0              8.0      29.000000          5.0   \n",
              "79801                4.0              6.0       7.000000          2.0   \n",
              "79802                4.0              6.0      14.546679          2.0   \n",
              "79803                4.0              6.0       7.000000          2.0   \n",
              "79804                4.0              6.0       7.000000          2.0   \n",
              "\n",
              "       Type_of_Loan  ...  Credit_Mix  Outstanding_Debt  \\\n",
              "0               128  ...           1            809.98   \n",
              "1               128  ...           1            809.98   \n",
              "2               128  ...           1            809.98   \n",
              "3               128  ...           1            809.98   \n",
              "4               128  ...           1            809.98   \n",
              "...             ...  ...         ...               ...   \n",
              "79800          4913  ...           0           3571.70   \n",
              "79801           683  ...           1            502.38   \n",
              "79802           683  ...           1            502.38   \n",
              "79803           683  ...           1            502.38   \n",
              "79804           683  ...           1            502.38   \n",
              "\n",
              "       Credit_Utilization_Ratio  Credit_History_Age  Payment_of_Min_Amount  \\\n",
              "0                     31.944960                   0                      1   \n",
              "1                     28.609352                 267                      1   \n",
              "2                     31.377862                 268                      1   \n",
              "3                     24.797347                 269                      1   \n",
              "4                     27.262259                 270                      1   \n",
              "...                         ...                 ...                    ...   \n",
              "79800                 37.140784                  75                      2   \n",
              "79801                 29.135447                 376                      1   \n",
              "79802                 41.255522                 380                      1   \n",
              "79803                 33.638208                 381                      1   \n",
              "79804                 34.192463                 382                      1   \n",
              "\n",
              "       Total_EMI_per_month  Amount_invested_monthly  Payment_Behaviour  \\\n",
              "0                49.574949               118.280222                  3   \n",
              "1                49.574949                81.699521                  4   \n",
              "2                49.574949               199.458074                  5   \n",
              "3                49.574949                41.420153                  1   \n",
              "4                49.574949                62.430172                  6   \n",
              "...                    ...                      ...                ...   \n",
              "79800            60.964772                34.662906                  0   \n",
              "79801         58638.000000               180.733095                  4   \n",
              "79802            35.104023                24.028477                  0   \n",
              "79803            35.104023               251.672582                  3   \n",
              "79804            35.104023               167.163865                  6   \n",
              "\n",
              "       Monthly_Balance  Credit_Score  \n",
              "0           284.629162             2  \n",
              "1           331.209863             2  \n",
              "2           223.451310             2  \n",
              "3           341.489231             2  \n",
              "4           340.479212             2  \n",
              "...                ...           ...  \n",
              "79800       337.362988             1  \n",
              "79801       400.104466             1  \n",
              "79802       516.809083             0  \n",
              "79803       319.164979             1  \n",
              "79804       393.673696             0  \n",
              "\n",
              "[79805 rows x 24 columns]"
            ]
          },
          "execution_count": 7,
          "metadata": {},
          "output_type": "execute_result"
        }
      ],
      "source": [
        "data"
      ]
    },
    {
      "cell_type": "markdown",
      "metadata": {
        "id": "gCzgkhjK0Ltb"
      },
      "source": [
        "### Podemos ver que tenemos 3 diferentes tipos de \"Credit_Score\" 0,1,2"
      ]
    },
    {
      "cell_type": "code",
      "execution_count": 8,
      "metadata": {
        "id": "gfTdQplnqHhd"
      },
      "outputs": [],
      "source": [
        "#almacenamos la cantidad de caracteristicas en una variable\n",
        "input_layer_size  = 24 #incluye X0;\n",
        "\n",
        "#almacenamos la cantidad de clases en una variable\n",
        "num_labels = 3;"
      ]
    },
    {
      "cell_type": "markdown",
      "metadata": {
        "id": "abswIK_qf3cu"
      },
      "source": [
        "### Aqui asignamos los valores para nuestras X y para nuestra y"
      ]
    },
    {
      "cell_type": "code",
      "execution_count": 9,
      "metadata": {
        "colab": {
          "base_uri": "https://localhost:8080/"
        },
        "id": "b3oTI2zJvfRh",
        "outputId": "2d821473-1cd8-4190-dde2-4c3cadbdef03"
      },
      "outputs": [
        {
          "name": "stdout",
          "output_type": "stream",
          "text": [
            "79805\n"
          ]
        }
      ],
      "source": [
        "X = data.iloc[:, 0:23].values # Extrae los valores de las columnas como un array de NumPy\n",
        "y = data.iloc[:, 23].values # Extrae los valores de la columna como un array de NumPy\n",
        "m = y.size # Extrae el tamaño de y\n",
        "print(m)"
      ]
    },
    {
      "cell_type": "code",
      "execution_count": 10,
      "metadata": {
        "colab": {
          "base_uri": "https://localhost:8080/"
        },
        "id": "aw2yVc8ESxgL",
        "outputId": "b867691a-2947-432f-80c3-f2a8d51497d0"
      },
      "outputs": [
        {
          "name": "stdout",
          "output_type": "stream",
          "text": [
            "[ 2.00000000e+00  2.30000000e+01  1.30000000e+01  1.91141200e+04\n",
            "  4.19417085e+03  3.00000000e+00  4.00000000e+00  3.00000000e+00\n",
            "  4.00000000e+00  1.28000000e+02 -1.00000000e+00  3.09233424e+01\n",
            "  1.11200000e+03  4.00000000e+00  1.00000000e+00  8.09980000e+02\n",
            "  3.19449601e+01  0.00000000e+00  1.00000000e+00  4.95749492e+01\n",
            "  1.18280222e+02  3.00000000e+00  2.84629162e+02]\n",
            "[2 2 2 ... 0 1 0]\n"
          ]
        }
      ],
      "source": [
        "print(X[0,:])\n",
        "print(y)"
      ]
    },
    {
      "cell_type": "markdown",
      "metadata": {
        "id": "HOrrpivNf-t6"
      },
      "source": [
        "### Funcion para la normalizacion de las caracteristicas"
      ]
    },
    {
      "cell_type": "code",
      "execution_count": 11,
      "metadata": {
        "id": "HWF5C5Jt8wNb"
      },
      "outputs": [],
      "source": [
        "def  featureNormalize(X):\n",
        "    X_norm = X.copy()\n",
        "    mu = np.zeros(X.shape[1])\n",
        "    sigma = np.zeros(X.shape[1])\n",
        "\n",
        "    mu = np.mean(X, axis = 0)\n",
        "    sigma = np.std(X, axis = 0)\n",
        "    X_norm = (X - mu) / sigma\n",
        "\n",
        "    return X_norm, mu, sigma"
      ]
    },
    {
      "cell_type": "code",
      "execution_count": 12,
      "metadata": {
        "id": "f4W6d-ya1ABV"
      },
      "outputs": [],
      "source": [
        "# llama featureNormalize con los datos cargados\n",
        "X_norm, mu, sigma = featureNormalize(X)"
      ]
    },
    {
      "cell_type": "code",
      "execution_count": 13,
      "metadata": {
        "colab": {
          "base_uri": "https://localhost:8080/"
        },
        "id": "_lk8TeZPt5_S",
        "outputId": "a815f6ba-c894-4db7-bf21-63e2b02ea6ac"
      },
      "outputs": [
        {
          "name": "stdout",
          "output_type": "stream",
          "text": [
            "[-6.56151312e-01 -1.18048387e+00  1.19736525e+00 -1.10651295e-01\n",
            " -2.65923119e-03 -8.07207450e-01 -5.37276869e-01 -1.32485993e+00\n",
            "  1.87563168e-01 -1.71434865e+00 -1.48647901e+00  8.15987689e-04\n",
            " -1.14050728e+00 -1.23987516e-01 -2.72460196e-01 -5.33931527e-01\n",
            " -6.58573388e-02 -1.76059566e+00 -5.79489203e-01 -1.62768330e-01\n",
            " -2.60621555e-01  2.47619369e-04 -5.55157752e-01]\n",
            "[2 2 2 ... 0 1 0]\n"
          ]
        }
      ],
      "source": [
        "print(X_norm[0,:])\n",
        "print(y)"
      ]
    },
    {
      "cell_type": "code",
      "execution_count": 14,
      "metadata": {
        "id": "r9e6MRrW1G22"
      },
      "outputs": [],
      "source": [
        "# Configurar la matriz adecuadamente, y agregar una columna de unos que corresponde al termino de intercepción.\n",
        "m, n = X.shape\n",
        "# Agraga el termino de intercepción a A\n",
        "X = X_norm"
      ]
    },
    {
      "cell_type": "markdown",
      "metadata": {
        "id": "Ay70faCwg6TO"
      },
      "source": [
        "### Funcion para la sigmoide"
      ]
    },
    {
      "cell_type": "code",
      "execution_count": 15,
      "metadata": {
        "id": "0sB9Kyi8SxgN"
      },
      "outputs": [],
      "source": [
        "def sigmoid(z):\n",
        "    return 1.0 / (1.0 + np.exp(-z))"
      ]
    },
    {
      "cell_type": "markdown",
      "metadata": {
        "id": "69B4jnyQhH_F"
      },
      "source": [
        "### Funcion del calculo de costo"
      ]
    },
    {
      "cell_type": "code",
      "execution_count": 16,
      "metadata": {
        "id": "w5S0OOswSxgN"
      },
      "outputs": [],
      "source": [
        "def lrCostFunction(theta, X, y, lambda_):\n",
        "    m = y.size\n",
        "\n",
        "    # convierte las etiquetas a valores enteros si son boleanos\n",
        "    if y.dtype == bool:\n",
        "        y = y.astype(int)\n",
        "\n",
        "    J = 0\n",
        "    grad = np.zeros(theta.shape)\n",
        "\n",
        "    h = sigmoid(X.dot(theta.T))\n",
        "\n",
        "    temp = theta\n",
        "    temp[0] = 0\n",
        "\n",
        "    J = (1 / m) * np.sum(-y.dot(np.log(h)) - (1 - y).dot(np.log(1 - h))) + (lambda_ / (2 * m)) * np.sum(np.square(temp))\n",
        "\n",
        "    grad = (1 / m) * (h - y).dot(X)\n",
        "\n",
        "    grad = grad + (lambda_ / m) * temp\n",
        "\n",
        "    return J, grad\n"
      ]
    },
    {
      "cell_type": "markdown",
      "metadata": {
        "id": "XL8uwsGshTi2"
      },
      "source": [
        "### Funcion de One vs All"
      ]
    },
    {
      "cell_type": "code",
      "execution_count": 17,
      "metadata": {
        "id": "V0rOw5qhSxgN"
      },
      "outputs": [],
      "source": [
        "def oneVsAll(X, y, num_labels, lambda_):\n",
        "    m, n = X.shape\n",
        "\n",
        "    all_theta = np.zeros((num_labels, n + 1))\n",
        "\n",
        "    # Agrega unos a la matriz X\n",
        "    X = np.concatenate([np.ones((m, 1)), X], axis=1)\n",
        "\n",
        "    for c in np.arange(num_labels):\n",
        "        initial_theta = np.zeros(n + 1)\n",
        "        options = {'maxiter': 50}\n",
        "        res = optimize.minimize(lrCostFunction,\n",
        "                                initial_theta,\n",
        "                                (X, (y == c), lambda_),\n",
        "                                jac=True,\n",
        "                                method='CG',\n",
        "                                options=options)\n",
        "\n",
        "        all_theta[c] = res.x\n",
        "\n",
        "    return all_theta"
      ]
    },
    {
      "cell_type": "code",
      "execution_count": 18,
      "metadata": {
        "colab": {
          "base_uri": "https://localhost:8080/"
        },
        "id": "w6JbsLLMSxgO",
        "outputId": "0e6476ea-a312-4891-ecf1-8d34934dfbec"
      },
      "outputs": [
        {
          "name": "stdout",
          "output_type": "stream",
          "text": [
            "(3, 24)\n"
          ]
        }
      ],
      "source": [
        "lambda_ = 0.1\n",
        "all_theta = oneVsAll(X, y, num_labels, lambda_)\n",
        "print(all_theta.shape)"
      ]
    },
    {
      "cell_type": "markdown",
      "metadata": {
        "id": "i77flQjihdm8"
      },
      "source": [
        "### Aqui tenemos todas nuestras thetas encontradas."
      ]
    },
    {
      "cell_type": "code",
      "execution_count": 19,
      "metadata": {
        "colab": {
          "base_uri": "https://localhost:8080/"
        },
        "id": "V1EfKaiEgtcw",
        "outputId": "7d64ef3d-69f1-47f1-c184-c66440a4dc8e"
      },
      "outputs": [
        {
          "name": "stdout",
          "output_type": "stream",
          "text": [
            "[[-1.08138909e+00  2.10151623e-03 -5.31664201e-02  8.44628467e-03\n",
            "  -2.17140721e-02 -8.89223626e-02 -1.94920257e-02  1.55961461e-01\n",
            "   5.52719895e-01  6.38247555e-02 -2.66952751e-02  3.10428519e-01\n",
            "   1.94337084e-03  2.31229811e-02 -3.51959393e-05 -2.20510325e-01\n",
            "   8.55798767e-03  8.36218200e-03 -1.05507516e-01  2.78550610e-02\n",
            "  -2.35002051e-03  2.39691218e-03  1.64622181e-01  1.20924526e-01]\n",
            " [ 1.42687810e-01  1.06960125e-02  3.97868515e-03  1.15014995e-03\n",
            "   2.09764670e-02 -6.01809363e-03  1.63947122e-01  2.81582079e-02\n",
            "  -2.11648818e-01  5.67304011e-02  2.15055192e-02 -4.73103428e-03\n",
            "   7.75831825e-03 -2.46952130e-02  2.47403995e-03  7.22998541e-01\n",
            "   1.22323003e-01 -3.50861434e-03 -4.44089924e-03  1.11788876e-01\n",
            "   8.04856449e-04 -9.72539002e-03 -4.62032770e-02  9.04391481e-03]\n",
            " [-2.38213353e+00 -2.54052496e-02  4.44349864e-02 -2.18512007e-02\n",
            "  -6.29774090e-03  1.23214031e-01 -4.93385155e-02 -6.58990669e-01\n",
            "  -5.84291633e-01 -2.16296705e-01 -8.08287260e-03 -6.35279177e-01\n",
            "  -1.51054863e-02  1.79994989e-02 -8.02227679e-03 -9.66323518e-01\n",
            "  -4.15836585e-01 -8.92541799e-03  1.20290512e-01 -2.19175477e-01\n",
            "  -1.05521567e-03  1.58477990e-02 -1.83804406e-01 -2.00836200e-01]]\n"
          ]
        }
      ],
      "source": [
        "print(all_theta)"
      ]
    },
    {
      "cell_type": "markdown",
      "metadata": {
        "id": "jt1_tywMhjRL"
      },
      "source": [
        "### Funcion para Prediccion One vs all"
      ]
    },
    {
      "cell_type": "code",
      "execution_count": 20,
      "metadata": {
        "id": "PjFoFe1bSxgO"
      },
      "outputs": [],
      "source": [
        "def predictOneVsAll(all_theta, X):\n",
        "    m = X.shape[0];\n",
        "    num_labels = all_theta.shape[0]\n",
        "\n",
        "    p = np.zeros(m)\n",
        "\n",
        "    # Add ones to the X data matrix\n",
        "    X = np.concatenate([np.ones((m, 1)), X], axis=1)\n",
        "    p = np.argmax(sigmoid(X.dot(all_theta.T)), axis = 1)\n",
        "\n",
        "    return p"
      ]
    },
    {
      "cell_type": "code",
      "execution_count": 21,
      "metadata": {
        "colab": {
          "base_uri": "https://localhost:8080/"
        },
        "id": "mE7v5cglSxgO",
        "outputId": "c9b7df6d-6f89-467f-f058-7755a9aeb370"
      },
      "outputs": [
        {
          "name": "stdout",
          "output_type": "stream",
          "text": [
            "(79805, 23)\n",
            "Precision del conjuto de entrenamiento: 62.07%\n",
            "(140, 23)\n",
            "(140, 24)\n",
            "[2 2 2 2 1 1 1 1 1 1 1 2 2 2 2 2 2 2 1 1 1 1 1 1 1 2 1 2 1 1 2 2 2 2 2 2 2\n",
            " 2 1 1 1 1 1 1 1 1 1 1 1 2 2 2 1 1 1 1 1 1 1 1 1 1 2 2 2 2 2 2 2 1 1 1 1 1\n",
            " 1 1 1 1 1 1 1 1 1 1 1 1 1 1 1 1 1 1 1 1 1 1 1 1 1 1 1 1 1 1 1 1 1 1 1 1 1\n",
            " 1 1 0 0 0 0 0 0 1 1 1 1 1 0 0 0 0 0 0 2 2 2 2 2 1 1 1 1 1]\n",
            "[2 2 2 2 2 2 2 2 2 1 1 1 1 1 1 1 1 1 1 1 1 1 1 1 2 2 2 2 2 2 2 2 2 2 2 1 2\n",
            " 2 0 0 1 1 2 2 2 2 1 2 1 2 2 2 2 2 1 1 1 1 1 1 1 1 1 2 1 1 2 2 2 1 1 1 1 1\n",
            " 1 0 0 0 0 0 0 0 1 1 1 1 1 1 1 1 1 1 1 1 1 1 1 0 0 0 0 1 1 1 1 1 1 1 1 2 2\n",
            " 1 2 0 0 1 0 0 1 1 0 0 0 0 0 0 0 0 0 0 2 2 2 1 1 1 1 0 0 0]\n"
          ]
        }
      ],
      "source": [
        "print(X.shape)\n",
        "pred = predictOneVsAll(all_theta, X)\n",
        "print('Precision del conjuto de entrenamiento: {:.2f}%'.format(np.mean(pred == y) * 100))\n",
        "XPrueba = X[10:150, :].copy()\n",
        "print(XPrueba.shape)\n",
        "\n",
        "XPrueba = np.concatenate([np.ones((140, 1)), XPrueba], axis=1)\n",
        "print(XPrueba.shape)\n",
        "p = np.argmax(sigmoid(XPrueba.dot(all_theta.T)), axis = 1)\n",
        "print(p)\n",
        "\n",
        "\n",
        "print(y[10:150])"
      ]
    },
    {
      "cell_type": "markdown",
      "metadata": {
        "id": "rOj9bLd_l83T"
      },
      "source": [
        "### Podemos observar que llegamos a obtener una precision del 62%, lo cual es buen indicativo, no perfecto pero si bueno y aceptable.\n",
        "### Ahora graficaremos el costo y veremos si esto se encuentra en descenso y de manera correcta."
      ]
    },
    {
      "cell_type": "code",
      "execution_count": 22,
      "metadata": {
        "colab": {
          "base_uri": "https://localhost:8080/",
          "height": 489
        },
        "id": "ML8LrvQWl8Ug",
        "outputId": "d9f46967-30a5-478c-a431-716222db0a19"
      },
      "outputs": [],
      "source": [
        "import numpy as np\n",
        "import matplotlib.pyplot as plt\n",
        "\n",
        "def computeCost(X, y, theta):\n",
        "    \"\"\"Calcula el costo para la regresión logística\"\"\"\n",
        "    m = len(y)\n",
        "    h = sigmoid(X.dot(theta))\n",
        "    J = -(1/m) * (y.T.dot(np.log(h)) + (1 - y).T.dot(np.log(1 - h)))\n",
        "    return J\n",
        "\n",
        "def gradientDescent(X, y, theta, alpha, num_iters):\n",
        "    \"\"\"Realiza descenso por gradiente para encontrar los parámetros óptimos theta\"\"\"\n",
        "    m = len(y)\n",
        "    J_history = []\n",
        "\n",
        "    for i in range(num_iters):\n",
        "        h = sigmoid(X.dot(theta))\n",
        "        theta = theta - (alpha/m) * (X.T.dot(h - y))\n",
        "\n",
        "        # Guardar el costo en cada iteración\n",
        "        J_history.append(computeCost(X, y, theta))\n",
        "\n",
        "    return theta, J_history\n",
        "\n",
        "# Ajusta los parámetros de acuerdo a tu dataset y modelo\n",
        "alpha = 0.01  # Tasa de aprendizaje\n",
        "num_iters = 1000 # Número de iteraciones\n",
        "theta = np.zeros((X.shape[1],))  # Inicializar theta con ceros\n",
        "\n",
        "# Llamada a la función de descenso por gradiente\n",
        "theta, J_history = gradientDescent(X, y, theta, alpha, num_iters)\n",
        "\n",
        "# Imprimir el costo final\n",
        "print(\"Costo final: \", J_history[-1])\n",
        "\n",
        "# Graficar el descenso del costo\n",
        "plt.plot(range(len(J_history)), J_history, color='blue')\n",
        "plt.xlabel('Número de Iteraciones')\n",
        "plt.ylabel('Costo J')\n",
        "plt.title('Descenso del Costo en el Entrenamiento')\n",
        "plt.show()\n"
      ]
    },
    {
      "cell_type": "markdown",
      "metadata": {
        "id": "p7mnv2zwmq4T"
      },
      "source": [
        "### Obtuvimos un costo lo mas cercano a cero posible, lo cual tambien nos demuestra que nuestro modelo esta optimo.\n",
        "### De esta manera concluimos con el laboratorio 4 habiendo aprendido de buena manera todo y entrenando este modelo con una precision del 62.07%"
      ]
    }
  ],
  "metadata": {
    "colab": {
      "provenance": []
    },
    "kernelspec": {
      "display_name": "Python 3",
      "language": "python",
      "name": "python3"
    },
    "language_info": {
      "codemirror_mode": {
        "name": "ipython",
        "version": 3
      },
      "file_extension": ".py",
      "mimetype": "text/x-python",
      "name": "python",
      "nbconvert_exporter": "python",
      "pygments_lexer": "ipython3",
      "version": "3.10.11"
    }
  },
  "nbformat": 4,
  "nbformat_minor": 0
}
